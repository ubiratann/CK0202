{
 "cells": [
  {
   "cell_type": "code",
   "execution_count": 1,
   "metadata": {},
   "outputs": [
    {
     "name": "stdout",
     "output_type": "stream",
     "text": [
      "Collecting sly\n",
      "  Downloading sly-0.4.tar.gz (60 kB)\n",
      "\u001b[K     |████████████████████████████████| 60 kB 1.5 MB/s eta 0:00:01\n",
      "\u001b[?25hBuilding wheels for collected packages: sly\n",
      "  Building wheel for sly (setup.py) ... \u001b[?25ldone\n",
      "\u001b[?25h  Created wheel for sly: filename=sly-0.4-py3-none-any.whl size=27355 sha256=0936cc40d5cd7754cadf45107766328f77a49319e972b0805064e5e8f611ab5d\n",
      "  Stored in directory: /home/ubiratan/.cache/pip/wheels/4f/4a/de/a35a8fc2d21eaa16b72c1fec0abf71a10e82ba02adb1b43303\n",
      "Successfully built sly\n",
      "Installing collected packages: sly\n",
      "Successfully installed sly-0.4\n",
      "Note: you may need to restart the kernel to use updated packages.\n"
     ]
    }
   ],
   "source": [
    "%pip install sly"
   ]
  }
 ],
 "metadata": {
  "interpreter": {
   "hash": "31f2aee4e71d21fbe5cf8b01ff0e069b9275f58929596ceb00d14d90e3e16cd6"
  },
  "kernelspec": {
   "display_name": "Python 3.8.10 64-bit",
   "language": "python",
   "name": "python3"
  },
  "language_info": {
   "codemirror_mode": {
    "name": "ipython",
    "version": 3
   },
   "file_extension": ".py",
   "mimetype": "text/x-python",
   "name": "python",
   "nbconvert_exporter": "python",
   "pygments_lexer": "ipython3",
   "version": "3.8.10"
  },
  "orig_nbformat": 4
 },
 "nbformat": 4,
 "nbformat_minor": 2
}
