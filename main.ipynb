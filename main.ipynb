{
 "cells": [
  {
   "cell_type": "markdown",
   "metadata": {},
   "source": [
    "### Instalando pacote sly no env python selecionado"
   ]
  },
  {
   "cell_type": "code",
   "execution_count": null,
   "metadata": {},
   "outputs": [],
   "source": [
    "%pip install sly"
   ]
  },
  {
   "cell_type": "markdown",
   "metadata": {},
   "source": [
    "### Criando lexer simples"
   ]
  },
  {
   "cell_type": "code",
   "execution_count": null,
   "metadata": {},
   "outputs": [],
   "source": [
    "from sly import Lexer\n",
    "\n",
    "class CalcLexer(Lexer):\n",
    "\n",
    "    # Set of token names.   This is always required\n",
    "    tokens = { ID, NUMBER, PLUS, MINUS, TIMES,\n",
    "               DIVIDE, ASSIGN, LPAREN, RPAREN }\n",
    "\n",
    "    # String containing ignored characters between tokens\n",
    "    ignore = ' \\t'\n",
    "\n",
    "    # Regular expression rules for tokens\n",
    "    ID      = r'[a-zA-Z_][a-zA-Z0-9_]*'\n",
    "    NUMBER  = r'\\d+'\n",
    "    PLUS    = r'\\+'\n",
    "    MINUS   = r'-'\n",
    "    TIMES   = r'\\*'\n",
    "    DIVIDE  = r'/'\n",
    "    ASSIGN  = r'='\n",
    "    LPAREN  = r'\\('\n",
    "    RPAREN  = r'\\)'\n",
    "\n",
    "if __name__ == '__main__':\n",
    "    data = 'x = 3 + 42 * (s - t)'\n",
    "    lexer = CalcLexer()\n",
    "    for tok in lexer.tokenize(data):\n",
    "        print('type=%r, value=%r' % (tok.type, tok.value))"
   ]
  }
 ],
 "metadata": {
  "interpreter": {
   "hash": "31f2aee4e71d21fbe5cf8b01ff0e069b9275f58929596ceb00d14d90e3e16cd6"
  },
  "kernelspec": {
   "display_name": "Python 3.8.10 64-bit",
   "language": "python",
   "name": "python3"
  },
  "language_info": {
   "codemirror_mode": {
    "name": "ipython",
    "version": 3
   },
   "file_extension": ".py",
   "mimetype": "text/x-python",
   "name": "python",
   "nbconvert_exporter": "python",
   "pygments_lexer": "ipython3",
   "version": "3.8.10"
  },
  "orig_nbformat": 4
 },
 "nbformat": 4,
 "nbformat_minor": 2
}
